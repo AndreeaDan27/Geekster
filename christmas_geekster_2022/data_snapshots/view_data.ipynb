{
 "cells": [
  {
   "cell_type": "code",
   "execution_count": null,
   "metadata": {},
   "outputs": [],
   "source": [
    "# Import the Pandas library\n",
    "import pandas as pd\n",
    "\n",
    "# Read the Excel file\n",
    "df = pd.read_excel('../toy_stores.xlsx')\n",
    "\n",
    "# Select the first 10 rows of data\n",
    "first_5_rows = df.head(5)\n",
    "\n",
    "# Print the first 10 rows\n",
    "print(first_5_rows)\n",
    "\n",
    "rows = df.count()\n",
    "\n",
    "print(rows)\n"
   ]
  },
  {
   "cell_type": "code",
   "execution_count": 30,
   "metadata": {},
   "outputs": [
    {
     "name": "stdout",
     "output_type": "stream",
     "text": [
      "{'Name': 'Sage and Onion Sauce', 'url': 'https://www.bbcgoodfood.com/recipes/3250/sage-and-onion-sauce', 'Description': 'A great accompaniment to roast duck that can be made in advance', 'Author': 'Ruth Watson', 'Ingredients': ['all the innards, wings and bones from the ducks', '100ml marsala', '1 medium onion, peeled and chopped', '1 large leek, trimmed, washed and chopped', '1 bay leaf, fresh or dried', '1 sprig fresh thyme', 'large sprigs fresh parsley', '25g butter', '1 tbsp olive oil', '2 medium onions, peeled and finely diced', '100g marsala', '300ml dry white wine', '6 large fresh sage leaves, finely chopped', '142ml carton double cream'], 'Method': ['Preheat the oven to 230C/Gas 8/fan oven 210C. Brown the duck bits in the oven for about 30 minutes. Transfer to a stockpot. Discard the fat and place the tin over a medium-high flame. Pour in the Marsala and 200ml/7fl oz cold water, bring to the boil and scrape any stuck-on bits into the liquid. Boil for 2 minutes then scrape everything into the stockpot.', 'Add 2.25 litres/4 pints cold water to the pot and bring to the boil over a medium heat, uncovered. Scoop off any scum, then add the vegetables and herbs. Bring back to the boil, de-scum again.', 'Now very gently simmer for 2 hours, adding cold water if the liquid falls below the level of the bones. Remove from the heat and drain through muslin-lined colander (or use a clean tea towel) into a heatproof bowl. Cool, then refrigerate until jellied.', 'Heat the butter and oil in a large, nonstick frying pan over a low-medium heat, then tip in the onions. Cook for about 30 minutes, stirring occasionally, until meltingly soft. Turn heat to high, add the Marsala and boil for 3-4 minutes, stirring often, until onions are syrupy. Set aside.', 'Meanwhile, remove the solidified fat from the stock and discard. Boil the stock in a saucepan, uncovered, until reduced to 500ml/18fl oz. Add the white wine and boil for 10 minutes, uncovered. Add the onions and sage and bring back to the boil. (Prepare in advance up to this point.)', 'To finish the sauce, pour in the cream and boil furiously for 4-5 minutes, season to taste. Serve in a warmed jug.']}\n"
     ]
    }
   ],
   "source": [
    "path = '../recipes.json'\n",
    "\n",
    "import json\n",
    "\n",
    "\n",
    "# Open the JSON file\n",
    "with open(path) as json_file:\n",
    "    # Load the data from the file\n",
    "    data = json.load(json_file)\n",
    "\n",
    "# Print the data to the console\n",
    "print(data[1616])\n"
   ]
  }
 ],
 "metadata": {
  "kernelspec": {
   "display_name": "Python 3",
   "language": "python",
   "name": "python3"
  },
  "language_info": {
   "codemirror_mode": {
    "name": "ipython",
    "version": 3
   },
   "file_extension": ".py",
   "mimetype": "text/x-python",
   "name": "python",
   "nbconvert_exporter": "python",
   "pygments_lexer": "ipython3",
   "version": "3.11.0"
  },
  "orig_nbformat": 4,
  "vscode": {
   "interpreter": {
    "hash": "bca634fe63117829c1d486725ff99edc6a076fe584fc42b80f612e2ccbc692be"
   }
  }
 },
 "nbformat": 4,
 "nbformat_minor": 2
}
